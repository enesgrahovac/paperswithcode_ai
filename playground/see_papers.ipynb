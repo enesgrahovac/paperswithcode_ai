{
 "cells": [
  {
   "cell_type": "code",
   "execution_count": null,
   "metadata": {},
   "outputs": [
    {
     "ename": "",
     "evalue": "",
     "output_type": "error",
     "traceback": [
      "\u001b[1;31mThe kernel failed to start as the Python Environment 'Python 3.10.16' is no longer available. Consider selecting another kernel or refreshing the list of Python Environments."
     ]
    }
   ],
   "source": [
    "! pip install ijson"
   ]
  },
  {
   "cell_type": "code",
   "execution_count": 5,
   "metadata": {},
   "outputs": [
    {
     "ename": "",
     "evalue": "",
     "output_type": "error",
     "traceback": [
      "\u001b[1;31mThe kernel failed to start as the Python Environment 'Python 3.10.16' is no longer available. Consider selecting another kernel or refreshing the list of Python Environments."
     ]
    }
   ],
   "source": [
    "import tempfile\n",
    "import requests \n",
    "# Download this link in temporary file\n",
    "url = \"https://production-media.paperswithcode.com/about/papers-with-abstracts.json.gz\"\n",
    "\n",
    "# Download the file\n",
    "response = requests.get(url)\n",
    "\n",
    "# Save the file\n",
    "with open(\"papers.json.gz\", \"wb\") as f:\n",
    "    f.write(response.content)\n"
   ]
  },
  {
   "cell_type": "code",
   "execution_count": null,
   "metadata": {},
   "outputs": [],
   "source": [
    "\n",
    "# Unzip the file\n",
    "import gzip\n",
    "with gzip.open(\"papers.json.gz\", \"rb\") as f:\n",
    "    data = f.read()     \n",
    "\n",
    "# Save the unzipped file\n",
    "with open(\"papers.json\", \"w\", encoding=\"utf-8\") as f:\n",
    "    f.write(data.decode(\"utf-8\"))\n"
   ]
  },
  {
   "cell_type": "code",
   "execution_count": 7,
   "metadata": {},
   "outputs": [
    {
     "name": "stdout",
     "output_type": "stream",
     "text": [
      "Total papers: 558506\n"
     ]
    }
   ],
   "source": [
    "import ijson\n",
    "total_papers = 0\n",
    "with open(\"papers.json\", \"r\") as f:\n",
    "    objects = ijson.items(f, 'item')  # 'item' is for a top-level list\n",
    "    for obj in objects:\n",
    "        # print(obj)\n",
    "        total_papers += 1\n",
    "\n",
    "print(f\"Total papers: {total_papers}\")\n",
    "\n",
    "\n"
   ]
  },
  {
   "cell_type": "code",
   "execution_count": null,
   "metadata": {},
   "outputs": [],
   "source": []
  }
 ],
 "metadata": {
  "kernelspec": {
   "display_name": "Python 3",
   "language": "python",
   "name": "python3"
  },
  "language_info": {
   "codemirror_mode": {
    "name": "ipython",
    "version": 3
   },
   "file_extension": ".py",
   "mimetype": "text/x-python",
   "name": "python",
   "nbconvert_exporter": "python",
   "pygments_lexer": "ipython3",
   "version": "3.10.16"
  }
 },
 "nbformat": 4,
 "nbformat_minor": 2
}
